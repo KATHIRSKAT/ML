{
  "nbformat": 4,
  "nbformat_minor": 0,
  "metadata": {
    "colab": {
      "provenance": [],
      "authorship_tag": "ABX9TyNGdjMuKM7GfT7euuYhoVRf",
      "include_colab_link": true
    },
    "kernelspec": {
      "name": "python3",
      "display_name": "Python 3"
    },
    "language_info": {
      "name": "python"
    }
  },
  "cells": [
    {
      "cell_type": "markdown",
      "metadata": {
        "id": "view-in-github",
        "colab_type": "text"
      },
      "source": [
        "<a href=\"https://colab.research.google.com/github/KATHIRSKAT/ML/blob/master/pytorchCNN.ipynb\" target=\"_parent\"><img src=\"https://colab.research.google.com/assets/colab-badge.svg\" alt=\"Open In Colab\"/></a>"
      ]
    },
    {
      "cell_type": "code",
      "execution_count": 41,
      "metadata": {
        "id": "XJ3c5nZKMvmM"
      },
      "outputs": [],
      "source": [
        "import torch\n",
        "import torch.nn as nn\n",
        "import torch.optim as optim\n",
        "import torch.nn.functional as F\n",
        "from torch.utils.data import DataLoader\n",
        "from torchvision.datasets import MNIST\n",
        "import torchvision.transforms as transforms"
      ]
    },
    {
      "cell_type": "code",
      "source": [
        "class CNN(nn.Module):\n",
        "    def __init__(self, in_channels=1, num_classes=10):\n",
        "        super(CNN, self).__init__()\n",
        "        # Define the layers\n",
        "        self.conv1 = nn.Conv2d(in_channels=1, out_channels=8, kernel_size=(3, 3), stride=(1, 1), padding=(1, 1))\n",
        "        self.pool = nn.MaxPool2d(kernel_size=(2, 2), stride=(2, 2))\n",
        "        self.conv2 = nn.Conv2d(in_channels=8, out_channels=16, kernel_size=(3, 3), stride=(1, 1), padding=(1, 1))\n",
        "        self.fc1 = nn.Linear(16 * 7 * 7, num_classes)\n",
        "\n",
        "    def forward(self, x):\n",
        "        # Forward pass through the network\n",
        "        x = F.relu(self.conv1(x))\n",
        "        x = self.pool(x)\n",
        "        x = F.relu(self.conv2(x))\n",
        "        x = self.pool(x)\n",
        "        x = x.reshape(x.shape[0], -1)  # Flatten the tensor\n",
        "        x = self.fc1(x)  # Fully connected layer\n",
        "\n",
        "        return x\n"
      ],
      "metadata": {
        "id": "FWO2vlE9MysL"
      },
      "execution_count": 58,
      "outputs": []
    },
    {
      "cell_type": "code",
      "source": [
        "import torch.cuda\n",
        "device = torch.device('cuda' if torch.cuda.is_available() else 'cpu')"
      ],
      "metadata": {
        "id": "QDkkliVnNMN_"
      },
      "execution_count": 60,
      "outputs": []
    },
    {
      "cell_type": "code",
      "source": [
        "in_channels = 1\n",
        "num_classes = 10\n",
        "epochs = 5\n",
        "lr = 0.0001\n",
        "batch_size = 64"
      ],
      "metadata": {
        "id": "zON_VjV-QonH"
      },
      "execution_count": 61,
      "outputs": []
    },
    {
      "cell_type": "code",
      "source": [
        "traindata = MNIST(root = \"dataset/\",train = True,transform = transforms.ToTensor(),download=True)\n",
        "train_batches = DataLoader(dataset  = traindata,batch_size= batch_size , shuffle = True)\n",
        "testdata = MNIST(root = \"dataset/\",train = False,transform = transforms.ToTensor(),download=True)\n",
        "test_batches = DataLoader(dataset  = traindata,batch_size= batch_size , shuffle = True)"
      ],
      "metadata": {
        "id": "kDhSDcA_Q0uo"
      },
      "execution_count": 62,
      "outputs": []
    },
    {
      "cell_type": "code",
      "source": [],
      "metadata": {
        "id": "N9D3YSl7RfY-"
      },
      "execution_count": 62,
      "outputs": []
    },
    {
      "cell_type": "code",
      "source": [
        "model = CNN().to(device)"
      ],
      "metadata": {
        "id": "l0QxjlcpR_DG"
      },
      "execution_count": 63,
      "outputs": []
    },
    {
      "cell_type": "code",
      "source": [
        "creterion = nn.CrossEntropyLoss()\n",
        "optimizer = optim.Adam(model.parameters(),lr=lr)"
      ],
      "metadata": {
        "id": "F7Hh5lITSmdY"
      },
      "execution_count": 64,
      "outputs": []
    },
    {
      "cell_type": "code",
      "source": [
        "for i in range(epochs):\n",
        "  for batch_idx ,(data,targets) in enumerate(train_batches):\n",
        "    data = data.to(device=device)\n",
        "    targets = targets.to(device=device)\n",
        "    scores= model(data)\n",
        "    loss = creterion(scores,targets)\n",
        "\n",
        "    optimizer.zero_grad()\n",
        "    loss.backward()\n",
        "\n",
        "    optimizer.step()"
      ],
      "metadata": {
        "id": "zYKJ012DUOMV"
      },
      "execution_count": 66,
      "outputs": []
    },
    {
      "cell_type": "code",
      "source": [
        "def check_accuracy(loader_data,model):\n",
        "  num_sam = 0\n",
        "  num_crt = 0\n",
        "\n",
        "  model.eval()\n",
        "  with torch.no_grad():\n",
        "    for x,y in (loader_data):\n",
        "      x = x.to(device)\n",
        "      y = y.to(device)\n",
        "\n",
        "      scores = model(x)\n",
        "      _, predict = scores.max(1)\n",
        "      num_crt += (predict == y).sum()\n",
        "      num_sam += len(y)\n",
        "\n",
        "    model.train()\n",
        "    return num_crt/num_sam"
      ],
      "metadata": {
        "id": "Ey3VcSCOUQ3M"
      },
      "execution_count": 51,
      "outputs": []
    },
    {
      "cell_type": "code",
      "source": [
        "print(check_accuracy(test_batches,model))"
      ],
      "metadata": {
        "colab": {
          "base_uri": "https://localhost:8080/"
        },
        "id": "lA4eY6KqWA_t",
        "outputId": "2bfc65f1-889a-4eee-d2f0-0e0778e2cca1"
      },
      "execution_count": 67,
      "outputs": [
        {
          "output_type": "stream",
          "name": "stdout",
          "text": [
            "tensor(0.9669)\n"
          ]
        }
      ]
    },
    {
      "cell_type": "code",
      "source": [],
      "metadata": {
        "id": "dyV_Kec9WEar"
      },
      "execution_count": null,
      "outputs": []
    }
  ]
}