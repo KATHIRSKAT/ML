{
  "nbformat": 4,
  "nbformat_minor": 0,
  "metadata": {
    "colab": {
      "provenance": [],
      "authorship_tag": "ABX9TyN3m/swknEUjOzXX1zH00Oj",
      "include_colab_link": true
    },
    "kernelspec": {
      "name": "python3",
      "display_name": "Python 3"
    },
    "language_info": {
      "name": "python"
    }
  },
  "cells": [
    {
      "cell_type": "markdown",
      "metadata": {
        "id": "view-in-github",
        "colab_type": "text"
      },
      "source": [
        "<a href=\"https://colab.research.google.com/github/KATHIRSKAT/ML/blob/master/Untitled1.ipynb\" target=\"_parent\"><img src=\"https://colab.research.google.com/assets/colab-badge.svg\" alt=\"Open In Colab\"/></a>"
      ]
    },
    {
      "cell_type": "code",
      "execution_count": 46,
      "metadata": {
        "id": "1cnq5-x0Rk2R"
      },
      "outputs": [],
      "source": [
        "import torch\n",
        "import torch.nn as nn\n",
        "import torch.optim as optim\n",
        "import torch.nn.functional as F\n",
        "from torch.utils.data import DataLoader\n",
        "from torchvision.datasets import MNIST\n",
        "import torchvision.transforms as transforms"
      ]
    },
    {
      "cell_type": "code",
      "source": [
        "import torch.cuda\n",
        "device = torch.device('cuda' if torch.cuda.is_available() else 'cpu')"
      ],
      "metadata": {
        "id": "mEUBmK4Xwst5"
      },
      "execution_count": 47,
      "outputs": []
    },
    {
      "cell_type": "code",
      "source": [
        "input_size = 28\n",
        "sequence_length = 28\n",
        "num_layers = 2\n",
        "hidden_size = 256\n",
        "num_classes = 10\n",
        "lr = 0.001\n",
        "batch_size = 64\n",
        "epochs = 2"
      ],
      "metadata": {
        "id": "p7-ywERORpDh"
      },
      "execution_count": 48,
      "outputs": []
    },
    {
      "cell_type": "code",
      "source": [
        "class RNN(nn.Module):\n",
        "  def __init__(self,input_size,hidden_size,num_layers,num_classes):\n",
        "    super(RNN,self).__init__()\n",
        "    self.hidden_size = hidden_size\n",
        "    self.num_layers = num_layers\n",
        "    self.rnn = nn.RNN(input_size,hidden_size,num_layers,batch_first = True)\n",
        "    self.fc = nn.Linear(hidden_size * sequence_length , num_classes)\n",
        "\n",
        "  def forward(self,x):\n",
        "    h0 = torch.zeros(self.num_layers,x.size(0),self.hidden_size).to(device)\n",
        "    out, _ = self.rnn(x,h0)\n",
        "    out = out.reshape(out.shape[0],-1)\n",
        "    out = self.fc(out)\n",
        "\n",
        "    return out\n"
      ],
      "metadata": {
        "id": "o0CQ2FFPwo_r"
      },
      "execution_count": 49,
      "outputs": []
    },
    {
      "cell_type": "code",
      "source": [
        "traindata = MNIST(root = \"dataset/\",train = True,transform = transforms.ToTensor(),download=True)\n",
        "train_batches = DataLoader(dataset  = traindata,batch_size= batch_size , shuffle = True)\n",
        "testdata = MNIST(root = \"dataset/\",train = False,transform = transforms.ToTensor(),download=True)\n",
        "test_batches = DataLoader(dataset  = traindata,batch_size= batch_size , shuffle = True)"
      ],
      "metadata": {
        "id": "S4__jNYkxTnN"
      },
      "execution_count": 50,
      "outputs": []
    },
    {
      "cell_type": "code",
      "source": [
        "model = RNN(input_size,hidden_size,num_layers,num_classes).to(device)"
      ],
      "metadata": {
        "id": "hXMbtThfzH3R"
      },
      "execution_count": 51,
      "outputs": []
    },
    {
      "cell_type": "code",
      "source": [
        "creterion = nn.CrossEntropyLoss()\n",
        "optimizer = optim.Adam(model.parameters(),lr=lr)"
      ],
      "metadata": {
        "id": "ooh_gipFzdhP"
      },
      "execution_count": 52,
      "outputs": []
    },
    {
      "cell_type": "code",
      "source": [
        "for i in range(epochs):\n",
        "  for batch_idx ,(data,targets) in enumerate(train_batches):\n",
        "    data = data.to(device=device).squeeze(1)\n",
        "    targets = targets.to(device=device)\n",
        "    scores= model(data)\n",
        "    loss = creterion(scores,targets)\n",
        "\n",
        "    optimizer.zero_grad()\n",
        "    loss.backward()\n",
        "\n",
        "    optimizer.step()"
      ],
      "metadata": {
        "id": "HVxwPPI0z4kM"
      },
      "execution_count": 53,
      "outputs": []
    },
    {
      "cell_type": "code",
      "source": [
        "def check_accuracy(loader_data,model):\n",
        "  num_sam = 0\n",
        "  num_crt = 0\n",
        "\n",
        "  model.eval()\n",
        "  with torch.no_grad():\n",
        "    for x,y in (loader_data):\n",
        "      x = x.to(device).squeeze(1)\n",
        "      y = y.to(device)\n",
        "\n",
        "      scores = model(x)\n",
        "      _, predict = scores.max(1)\n",
        "      num_crt += (predict == y).sum()\n",
        "      num_sam += len(y)\n",
        "\n",
        "    model.train()\n",
        "    return num_crt/num_sam"
      ],
      "metadata": {
        "id": "LBo5reLJz8fm"
      },
      "execution_count": 54,
      "outputs": []
    },
    {
      "cell_type": "code",
      "source": [
        "print(check_accuracy(test_batches,model))"
      ],
      "metadata": {
        "id": "mGhNFtX00Bfh",
        "outputId": "86d0e924-6b4d-4f7c-cf6c-2b0bf564c670",
        "colab": {
          "base_uri": "https://localhost:8080/"
        }
      },
      "execution_count": 55,
      "outputs": [
        {
          "output_type": "stream",
          "name": "stdout",
          "text": [
            "tensor(0.9668)\n"
          ]
        }
      ]
    },
    {
      "cell_type": "code",
      "source": [],
      "metadata": {
        "id": "u9Mpw4Ua0HP6"
      },
      "execution_count": 55,
      "outputs": []
    }
  ]
}